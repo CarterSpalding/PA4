{
 "cells": [
  {
   "cell_type": "code",
   "execution_count": 60,
   "id": "6ab86c35",
   "metadata": {},
   "outputs": [
    {
     "name": "stdout",
     "output_type": "stream",
     "text": [
      "Enter a word to translate from English to Spanish (Enter 0 to stop):one\n",
      "The Spanish word for one is UNO\n",
      "Enter a word to translate from English to Spanish (Enter 0 to stop):kajfalf\n",
      "The Spanish word for KAJFALF is not in the dictionary\n",
      "Enter a word to translate from English to Spanish (Enter 0 to stop):0\n"
     ]
    }
   ],
   "source": [
    "trans={\"hello\": \"hola\",\n",
    "      \"goodbye\": \"adios\",\n",
    "       \"one\": \"uno\",\n",
    "      \"two\": \"dos\",\n",
    "      \"three\": \"tres\",\n",
    "      \"four\": \"cuatro\",\n",
    "      \"five\": \"cinco\",\n",
    "      \"six\": \"seis\",\n",
    "      \"seven\": \"siete\",\n",
    "      \"eight\": \"ocho\",\n",
    "      \"nine\": \"nueve\",\n",
    "      \"ten\": \"diez\",\n",
    "      \"eleven\": \"once\",\n",
    "      \"twelve\": \"doce\",\n",
    "      \"thirteen\": \"trece\",\n",
    "      \"fourteen\": \"catorce\",\n",
    "      \"fifteen\": \"quince\",\n",
    "      \"sixteen\": \"diecisies\",\n",
    "      \"seventeen\": \"diecisiete\"}\n",
    "active=True\n",
    "while active:\n",
    "    word=input(\"Enter a word to translate from English to Spanish (Enter 0 to stop):\")\n",
    "    if word==\"0\":\n",
    "        active=False\n",
    "    elif word in trans:\n",
    "        print(\"The Spanish word for\", word, \"is\", trans[word].upper())\n",
    "    else:\n",
    "        print(\"The Spanish word for\", word.upper(), \"is not in the dictionary\")"
   ]
  },
  {
   "cell_type": "code",
   "execution_count": 76,
   "id": "8bea18b4",
   "metadata": {},
   "outputs": [
    {
     "name": "stdout",
     "output_type": "stream",
     "text": [
      "{15: 30.0, 17: 26.875, 19: 21.875, 21: 30.0, 23: 31.25, 25: 27.5}\n"
     ]
    }
   ],
   "source": [
    "Sept={15: 80,\n",
    "     17: 75,\n",
    "     19: 67,\n",
    "     21: 80,\n",
    "     23: 82,\n",
    "     25:76}\n",
    "for key, value in Sept.items():\n",
    "    new=(value-32)*(5/8)\n",
    "    Sept.update({key: new})\n",
    "print(Sept)"
   ]
  },
  {
   "cell_type": "code",
   "execution_count": 78,
   "id": "d20e2c0e",
   "metadata": {},
   "outputs": [
    {
     "name": "stdout",
     "output_type": "stream",
     "text": [
      "{1: 1, 2: 4, 3: 9, 4: 16, 5: 25, 6: 36, 7: 49, 8: 64, 9: 81, 10: 100, 11: 121, 12: 144, 13: 169, 14: 196, 15: 225, 16: 256}\n"
     ]
    }
   ],
   "source": [
    "dict={}\n",
    "i=1\n",
    "while i<17:\n",
    "    square=i**2\n",
    "    dict[i]=square\n",
    "    i+=1\n",
    "print(dict)"
   ]
  },
  {
   "cell_type": "markdown",
   "id": "67cdd023",
   "metadata": {},
   "source": [
    "# PA4"
   ]
  },
  {
   "cell_type": "markdown",
   "id": "73ebf6aa",
   "metadata": {},
   "source": [
    "## Carter Spalding"
   ]
  },
  {
   "cell_type": "markdown",
   "id": "eb68122b",
   "metadata": {},
   "source": [
    "### Verison 1"
   ]
  },
  {
   "cell_type": "markdown",
   "id": "e0eaa3dd",
   "metadata": {},
   "source": [
    "#### Fall Semester CS150 2022"
   ]
  },
  {
   "cell_type": "code",
   "execution_count": null,
   "id": "9c827547",
   "metadata": {},
   "outputs": [],
   "source": []
  }
 ],
 "metadata": {
  "kernelspec": {
   "display_name": "Python 3 (ipykernel)",
   "language": "python",
   "name": "python3"
  },
  "language_info": {
   "codemirror_mode": {
    "name": "ipython",
    "version": 3
   },
   "file_extension": ".py",
   "mimetype": "text/x-python",
   "name": "python",
   "nbconvert_exporter": "python",
   "pygments_lexer": "ipython3",
   "version": "3.9.12"
  }
 },
 "nbformat": 4,
 "nbformat_minor": 5
}
